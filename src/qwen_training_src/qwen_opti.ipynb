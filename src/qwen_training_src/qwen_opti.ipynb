{
 "cells": [
  {
   "cell_type": "code",
   "execution_count": 1,
   "metadata": {},
   "outputs": [
    {
     "name": "stderr",
     "output_type": "stream",
     "text": [
      "/home/ltnga/ITDSIU21079/venv/lib/python3.10/site-packages/tqdm/auto.py:21: TqdmWarning: IProgress not found. Please update jupyter and ipywidgets. See https://ipywidgets.readthedocs.io/en/stable/user_install.html\n",
      "  from .autonotebook import tqdm as notebook_tqdm\n"
     ]
    }
   ],
   "source": [
    "import torch\n",
    "from transformers import (\n",
    "    AutoModelForCausalLM,\n",
    "    AutoTokenizer,\n",
    "    pipeline,\n",
    "    BitsAndBytesConfig,\n",
    "    Trainer\n",
    "    ,TrainingArguments,\n",
    "    DataCollatorForLanguageModeling\n",
    ")\n",
    "from peft import LoraConfig, PeftModel, get_peft_model\n",
    "from trl import SFTTrainer\n",
    "import os \n",
    "from datasets import load_dataset\n",
    "import pandas as pd\n",
    "\n",
    "os.environ['HUGGING_FACE_HUB_TOKEN'] = os.getenv(\"HUGGING_FACE_HUB_TOKEN\")"
   ]
  },
  {
   "cell_type": "code",
   "execution_count": null,
   "metadata": {},
   "outputs": [],
   "source": [
    "# Select model base\n",
    "base_model = \"Qwen/Qwen2.5-3B\"\n",
    "dataset_path = \"VTSNLP/instruct_general_dataset\""
   ]
  },
  {
   "cell_type": "code",
   "execution_count": null,
   "metadata": {},
   "outputs": [],
   "source": [
    "model = AutoModelForCausalLM.from_pretrained(base_model)\n",
    "tokenizer = AutoTokenizer.from_pretrained(base_model)\n",
    "tokenizer.pad_token = tokenizer.eos_token"
   ]
  },
  {
   "cell_type": "code",
   "execution_count": null,
   "metadata": {},
   "outputs": [],
   "source": [
    "def prepare_dataset(tokenizer, max_length=2048):\n",
    "    # Load and preprocess your instruction dataset\n",
    "    dataset = load_dataset(\"VTSNLP/instruct_general_dataset\")\n",
    "    train_dataset = dataset['train'].select(range(10000))\n",
    "    eval_dataset = dataset['train'].select(range(10000, 11000))\n",
    "    \n",
    "    \n",
    "    def preprocess_function(examples):\n",
    "        texts = [\n",
    "             f\"Instruction: {instruct}\\nInput: {input}\\nResponse: {output}\"\n",
    "            for instruct, input, output in zip(examples['instruct'], examples['input'], examples['output'])\n",
    "        ]\n",
    "        \n",
    "        return tokenizer(\n",
    "            texts,\n",
    "            truncation=True,\n",
    "            max_length=max_length,\n",
    "            padding=\"max_length\"\n",
    "        )\n",
    "    \n",
    "    train_tokenized = train_dataset.map(\n",
    "        preprocess_function,\n",
    "        batched=True,\n",
    "        remove_columns=train_dataset.column_names\n",
    "    )\n",
    "    \n",
    "    eval_tokenized = eval_dataset.map(\n",
    "        preprocess_function,\n",
    "        batched=True,\n",
    "        remove_columns=eval_dataset.column_names\n",
    "    )\n",
    "    \n",
    "    return train_tokenized, eval_tokenized"
   ]
  },
  {
   "cell_type": "code",
   "execution_count": null,
   "metadata": {},
   "outputs": [],
   "source": [
    "train_dataset, eval_dataset = prepare_dataset(tokenizer)"
   ]
  },
  {
   "cell_type": "code",
   "execution_count": null,
   "metadata": {},
   "outputs": [],
   "source": [
    "training_args = TrainingArguments(\n",
    "    output_dir=\"./qwen-ft-results\",\n",
    "    num_train_epochs=3,\n",
    "        per_device_train_batch_size=1,  # Increased since we have 80GB memory\n",
    "        gradient_accumulation_steps=4,\n",
    "        learning_rate=1e-5,\n",
    "        weight_decay=0.01,\n",
    "        warmup_steps=100,\n",
    "        logging_steps=10,\n",
    "        save_steps=100,\n",
    "        eval_steps=100,\n",
    "        evaluation_strategy=\"steps\",\n",
    "        bf16=True,\n",
    "        gradient_checkpointing=True,\n",
    "        dataloader_num_workers=4,\n",
    "        group_by_length=True,\n",
    "        save_total_limit=3,\n",
    "        optim=\"adamw_torch_fused\",  # Use fused AdamW for better performance\n",
    "        lr_scheduler_type=\"cosine\",  # Cosine learning rate scheduler\n",
    "        max_grad_norm=1.0,  # Gradient clipping\n",
    "    )\n",
    "    \n",
    "# Initialize trainer\n",
    "trainer = Trainer(\n",
    "        model=model,\n",
    "        args=training_args,\n",
    "        train_dataset=train_dataset,\n",
    "        eval_dataset=eval_dataset,\n",
    "        data_collator=DataCollatorForLanguageModeling(tokenizer, mlm=False),\n",
    "    )\n",
    "    \n",
    "# Start training\n",
    "trainer.train()"
   ]
  }
 ],
 "metadata": {
  "kernelspec": {
   "display_name": "venv",
   "language": "python",
   "name": "python3"
  },
  "language_info": {
   "codemirror_mode": {
    "name": "ipython",
    "version": 3
   },
   "file_extension": ".py",
   "mimetype": "text/x-python",
   "name": "python",
   "nbconvert_exporter": "python",
   "pygments_lexer": "ipython3",
   "version": "3.10.12"
  }
 },
 "nbformat": 4,
 "nbformat_minor": 2
}
